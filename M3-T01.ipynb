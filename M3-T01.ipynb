{
 "cells": [
  {
   "cell_type": "markdown",
   "metadata": {},
   "source": [
    "# Especialització de DataScience de la IT ACADEMY\n",
    "### *Exercicis de programació numèrica.*\n",
    "### *Sprint3 - Tasca M3 T01 - Exercici 1*\n",
    "#### **Crea una funció que donat un Array d’una dimensió, et faci un resum estadístic bàsic de les dades. Si detecta que l’array té més d’una dimensió, ha de mostrar un missatge d’error.**"
   ]
  },
  {
   "cell_type": "code",
   "execution_count": 1,
   "metadata": {},
   "outputs": [],
   "source": [
    "import numpy as np"
   ]
  },
  {
   "cell_type": "code",
   "execution_count": 2,
   "metadata": {},
   "outputs": [],
   "source": [
    "#Funció per treure el valors estadistic d'una funció\n",
    "def estadisticaArray(array):\n",
    "\n",
    "    if (np.shape(array)[0]) == 1:\n",
    "        print(\"Resum estadistic del array\")\n",
    "        print(\"array: \\n\",array)            \n",
    "        print(\"Valor major del array: \",np.max(array)) #Valor major del array\n",
    "        print(\"Valor menor del array: \",np.min(array)) #Valor menor del array\n",
    "        print(\"Valor mitja del array: \",np.mean(array)) \n",
    "        print(\"Mitjana del array: \",np.median(array))     \n",
    "        print(\"Desviació estandar del array:\",np.std(array))\n",
    "    else:\n",
    "        print(\"Error: l'array no es unidimensional\")"
   ]
  },
  {
   "cell_type": "code",
   "execution_count": 4,
   "metadata": {},
   "outputs": [
    {
     "data": {
      "text/plain": [
       "array([[4.43, 6.24, 8.47, 3.02, 2.68, 8.23, 1.52, 8.69, 0.36, 4.47, 9.24,\n",
       "        1.83, 2.03, 4.59, 2.58, 9.81, 4.1 , 3.86, 2.79, 6.87]])"
      ]
     },
     "execution_count": 4,
     "metadata": {},
     "output_type": "execute_result"
    }
   ],
   "source": [
    "array1 = 10*np.round(np.random.random((1,20)),3)\n",
    "array1"
   ]
  },
  {
   "cell_type": "code",
   "execution_count": 5,
   "metadata": {},
   "outputs": [
    {
     "name": "stdout",
     "output_type": "stream",
     "text": [
      "Resum estadistic del array\n",
      "array: \n",
      " [[4.43 6.24 8.47 3.02 2.68 8.23 1.52 8.69 0.36 4.47 9.24 1.83 2.03 4.59\n",
      "  2.58 9.81 4.1  3.86 2.79 6.87]]\n",
      "Valor major del array:  9.81\n",
      "Valor menor del array:  0.36\n",
      "Valor mitja del array:  4.7905\n",
      "Mitjana del array:  4.265\n",
      "Desviació estandar del array: 2.799972276648467\n"
     ]
    }
   ],
   "source": [
    "estadisticaArray(array1)"
   ]
  },
  {
   "cell_type": "code",
   "execution_count": 6,
   "metadata": {},
   "outputs": [
    {
     "data": {
      "text/plain": [
       "array([[1., 1.],\n",
       "       [1., 1.]])"
      ]
     },
     "execution_count": 6,
     "metadata": {},
     "output_type": "execute_result"
    }
   ],
   "source": [
    "array2 = np.ones((2,2))\n",
    "array2"
   ]
  },
  {
   "cell_type": "code",
   "execution_count": 7,
   "metadata": {},
   "outputs": [
    {
     "name": "stdout",
     "output_type": "stream",
     "text": [
      "Error: l'array no es unidimensional\n"
     ]
    }
   ],
   "source": [
    "estadisticaArray(array2)"
   ]
  },
  {
   "cell_type": "markdown",
   "metadata": {},
   "source": [
    "### *Sprint3 - Tasca M3 T01 - Exercici 2*\n",
    "#### **Crea una funció que et generi un quadrat NxN de nombres aleatoris entre el 0 i el 100.**"
   ]
  },
  {
   "cell_type": "code",
   "execution_count": 15,
   "metadata": {},
   "outputs": [],
   "source": [
    "import numpy as np\n",
    "\n",
    "def creaArrayNxN(arg):\n",
    "    array = np.random.randint(0,101, size=(arg,arg))\n",
    "    return (array)"
   ]
  },
  {
   "cell_type": "code",
   "execution_count": 16,
   "metadata": {},
   "outputs": [
    {
     "data": {
      "text/plain": [
       "array([[40, 83, 71],\n",
       "       [91, 81, 99],\n",
       "       [58, 89, 32]])"
      ]
     },
     "execution_count": 16,
     "metadata": {},
     "output_type": "execute_result"
    }
   ],
   "source": [
    "array = creaArrayNxN (3)\n",
    "array"
   ]
  },
  {
   "cell_type": "markdown",
   "metadata": {},
   "source": [
    "### *Sprint3 - Tasca M3 T01 - Exercici 3*\n",
    "#### **Crea una funció que donada una taula de dues dimensions (NxM), et calculi els totals per fila i els totals per columna.**"
   ]
  },
  {
   "cell_type": "code",
   "execution_count": 17,
   "metadata": {},
   "outputs": [],
   "source": [
    "import numpy as np\n",
    "\n",
    "def calculaSumaFilasColumnasArray(arr):\n",
    "    for i in arr:\n",
    "        print(\"Suma Fila:\",i,\"es igual a\",np.sum(i))\n",
    "    arrT = np.transpose(arr)\n",
    "    for i in arrT:\n",
    "        print(\"Suma Columna:\",i,\"es igual a\",np.sum(i))\n"
   ]
  },
  {
   "cell_type": "code",
   "execution_count": 18,
   "metadata": {},
   "outputs": [
    {
     "data": {
      "text/plain": [
       "array([[40, 83, 71],\n",
       "       [91, 81, 99],\n",
       "       [58, 89, 32]])"
      ]
     },
     "execution_count": 18,
     "metadata": {},
     "output_type": "execute_result"
    }
   ],
   "source": [
    "array"
   ]
  },
  {
   "cell_type": "code",
   "execution_count": 19,
   "metadata": {},
   "outputs": [
    {
     "name": "stdout",
     "output_type": "stream",
     "text": [
      "Suma Fila: [40 83 71] es igual a 194\n",
      "Suma Fila: [91 81 99] es igual a 271\n",
      "Suma Fila: [58 89 32] es igual a 179\n",
      "Suma Columna: [40 91 58] es igual a 189\n",
      "Suma Columna: [83 81 89] es igual a 253\n",
      "Suma Columna: [71 99 32] es igual a 202\n"
     ]
    }
   ],
   "source": [
    "calculaSumaFilasColumnasArray(array)"
   ]
  },
  {
   "cell_type": "markdown",
   "metadata": {},
   "source": [
    "### *Sprint3 - Tasca M3 T01 - Exercici 4*\n",
    "#### **Implementa manualment una funció que calculi el coeficient de correlació. Informant sobre els seus usos i interpretació.**"
   ]
  },
  {
   "cell_type": "code",
   "execution_count": 20,
   "metadata": {},
   "outputs": [
    {
     "data": {
      "text/plain": [
       "array([[8, 4, 1]])"
      ]
     },
     "execution_count": 20,
     "metadata": {},
     "output_type": "execute_result"
    }
   ],
   "source": [
    "arr1 = np.random.randint(0,10, size=(1,3))\n",
    "arr1"
   ]
  },
  {
   "cell_type": "code",
   "execution_count": 21,
   "metadata": {},
   "outputs": [
    {
     "data": {
      "text/plain": [
       "array([[7, 9, 4]])"
      ]
     },
     "execution_count": 21,
     "metadata": {},
     "output_type": "execute_result"
    }
   ],
   "source": [
    "arr2 = np.random.randint(0,10, size=(1,3))\n",
    "arr2"
   ]
  },
  {
   "cell_type": "markdown",
   "metadata": {},
   "source": [
    "#### Càlcul manual del coeficient de Correlació de Pearson ####\n",
    "##### Indica la correlació de les dos matrius en rang (-1 a 1): \n",
    "##### 1: matrius iguals (correlació total directa)\n",
    "##### -1: matrius inverses amb igual modul (correlació total inversa)\n",
    "##### 0: matrius totalment descorrelacionades"
   ]
  },
  {
   "cell_type": "code",
   "execution_count": 22,
   "metadata": {},
   "outputs": [],
   "source": [
    "import numpy as np\n",
    "import math\n",
    "\n",
    "def coeficientCorrelacio(args1,args2):\n",
    "    #Càlcul valors mitjans\n",
    "    arrayMedia1 = np.mean(args1) \n",
    "    arrayMedia2 = np.mean(args2) \n",
    "    \n",
    "    #Càlcul de les covariances\n",
    "    arrayCov = np.cov(arr1,arr2)\n",
    "    \n",
    "    #Covariança entre arrays 1 i 2\n",
    "    Cov12 = arrayCov[0,1]\n",
    "    Cov1 = arrayCov[0,0]\n",
    "    Cov2 = arrayCov[1,1]\n",
    "    \n",
    "    #càlcul del coeficient de Pearson\n",
    "    coefPearson = Cov12/(math.sqrt(Cov1*Cov2))\n",
    "    return coefPearson"
   ]
  },
  {
   "cell_type": "code",
   "execution_count": 23,
   "metadata": {},
   "outputs": [
    {
     "name": "stdout",
     "output_type": "stream",
     "text": [
      "Coeficient de correlació dels arrays:  0.5280200004833\n"
     ]
    }
   ],
   "source": [
    "coefCorrelacio = coeficientCorrelacio(arr1,arr2)\n",
    "print(\"Coeficient de correlació dels arrays: \",coefCorrelacio)"
   ]
  },
  {
   "cell_type": "code",
   "execution_count": 24,
   "metadata": {},
   "outputs": [
    {
     "name": "stdout",
     "output_type": "stream",
     "text": [
      "Coeficient de correlació del arrays:  0.5280200004833001\n"
     ]
    }
   ],
   "source": [
    "coefCorrelacioNumpy = (np.corrcoef(arr1,arr2)[0,1])\n",
    "print(\"Coeficient de correlació del arrays: \",coefCorrelacioNumpy)     \n",
    "#print(np.corrcoef(arr1,arr2))"
   ]
  },
  {
   "cell_type": "code",
   "execution_count": 25,
   "metadata": {},
   "outputs": [
    {
     "data": {
      "text/plain": [
       "-1.1102230246251565e-16"
      ]
     },
     "execution_count": 25,
     "metadata": {},
     "output_type": "execute_result"
    }
   ],
   "source": [
    "DiffCoefCorr = coefCorrelacio - coefCorrelacioNumpy\n",
    "DiffCoefCorr"
   ]
  },
  {
   "cell_type": "code",
   "execution_count": null,
   "metadata": {},
   "outputs": [],
   "source": []
  }
 ],
 "metadata": {
  "kernelspec": {
   "display_name": "Python 3",
   "language": "python",
   "name": "python3"
  },
  "language_info": {
   "codemirror_mode": {
    "name": "ipython",
    "version": 3
   },
   "file_extension": ".py",
   "mimetype": "text/x-python",
   "name": "python",
   "nbconvert_exporter": "python",
   "pygments_lexer": "ipython3",
   "version": "3.7.3"
  }
 },
 "nbformat": 4,
 "nbformat_minor": 4
}
