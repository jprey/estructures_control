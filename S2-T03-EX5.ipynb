{
 "cells": [
  {
   "cell_type": "markdown",
   "metadata": {},
   "source": [
    "# Especialització de DataScience de la IT ACADEMY\n",
    "#### *Sprint2 - Tasca 3 - Exercici 5*\n",
    "#### **Crea un programa que donada una llista, et digui quants números coincideixen amb la seva posició. Per exemple [3,4,2,0,2,3,6] el 2 i el 6 coincideixen.**\n",
    "\n",
    "#### Alumne: Jorge Prieto Data: 15/02/2022"
   ]
  },
  {
   "cell_type": "code",
   "execution_count": 314,
   "metadata": {},
   "outputs": [],
   "source": [
    "import random\n",
    "\n",
    "#Funció per la creació de una llista aleatorio de rangInf a rangSup en n posicions\n",
    "def creaLlistaValorAleatori(argInf,argSup,argPos):\n",
    "    llista = [random.randint(argInf,argSup) for _ in range(argPos)]\n",
    "    return llista"
   ]
  },
  {
   "cell_type": "code",
   "execution_count": 315,
   "metadata": {},
   "outputs": [],
   "source": [
    "#Funció per comparar els valors de una llista\n",
    "def comparaValorsLlista(llista):\n",
    "\n",
    "    count1 = 0\n",
    "    count2 = 0\n",
    "\n",
    "    llistaCopia = llista.copy() #copia de llista per la comparació de valor\n",
    "    \n",
    "    for i in llista:\n",
    "        count2 = count1\n",
    "        count1 +=1\n",
    "\n",
    "        del llistaCopia[0] #Elimina una posició en cada bucle per la comparació\n",
    "\n",
    "        for j in llistaCopia:\n",
    "            count2 += 1\n",
    "            if (i==j):\n",
    "                print(llista,\" posicions [\",count1,\",\",count2+1,\"] : amb el mateix valor:\",i)            "
   ]
  },
  {
   "cell_type": "code",
   "execution_count": 316,
   "metadata": {},
   "outputs": [
    {
     "data": {
      "text/plain": [
       "[3, 4, 9, 2, 10, 4, 8, 0, 4, 6, 5, 9, 6, 1, 8, 7, 6, 8, 8, 7]"
      ]
     },
     "execution_count": 316,
     "metadata": {},
     "output_type": "execute_result"
    }
   ],
   "source": [
    "Llista = creaLlistaValorAleatori(0,10,20)\n",
    "Llista"
   ]
  },
  {
   "cell_type": "code",
   "execution_count": 317,
   "metadata": {
    "scrolled": true
   },
   "outputs": [
    {
     "name": "stdout",
     "output_type": "stream",
     "text": [
      "[10, 6, 3, 7, 1, 2, 4, 2, 4, 6, 0, 8, 7, 8, 5, 6, 3, 7, 2, 7]  posicions [ 2 , 10 ] : amb el mateix valor: 6\n",
      "[10, 6, 3, 7, 1, 2, 4, 2, 4, 6, 0, 8, 7, 8, 5, 6, 3, 7, 2, 7]  posicions [ 2 , 16 ] : amb el mateix valor: 6\n",
      "[10, 6, 3, 7, 1, 2, 4, 2, 4, 6, 0, 8, 7, 8, 5, 6, 3, 7, 2, 7]  posicions [ 3 , 17 ] : amb el mateix valor: 3\n",
      "[10, 6, 3, 7, 1, 2, 4, 2, 4, 6, 0, 8, 7, 8, 5, 6, 3, 7, 2, 7]  posicions [ 4 , 13 ] : amb el mateix valor: 7\n",
      "[10, 6, 3, 7, 1, 2, 4, 2, 4, 6, 0, 8, 7, 8, 5, 6, 3, 7, 2, 7]  posicions [ 4 , 18 ] : amb el mateix valor: 7\n",
      "[10, 6, 3, 7, 1, 2, 4, 2, 4, 6, 0, 8, 7, 8, 5, 6, 3, 7, 2, 7]  posicions [ 4 , 20 ] : amb el mateix valor: 7\n",
      "[10, 6, 3, 7, 1, 2, 4, 2, 4, 6, 0, 8, 7, 8, 5, 6, 3, 7, 2, 7]  posicions [ 6 , 8 ] : amb el mateix valor: 2\n",
      "[10, 6, 3, 7, 1, 2, 4, 2, 4, 6, 0, 8, 7, 8, 5, 6, 3, 7, 2, 7]  posicions [ 6 , 19 ] : amb el mateix valor: 2\n",
      "[10, 6, 3, 7, 1, 2, 4, 2, 4, 6, 0, 8, 7, 8, 5, 6, 3, 7, 2, 7]  posicions [ 7 , 9 ] : amb el mateix valor: 4\n",
      "[10, 6, 3, 7, 1, 2, 4, 2, 4, 6, 0, 8, 7, 8, 5, 6, 3, 7, 2, 7]  posicions [ 8 , 19 ] : amb el mateix valor: 2\n",
      "[10, 6, 3, 7, 1, 2, 4, 2, 4, 6, 0, 8, 7, 8, 5, 6, 3, 7, 2, 7]  posicions [ 10 , 16 ] : amb el mateix valor: 6\n",
      "[10, 6, 3, 7, 1, 2, 4, 2, 4, 6, 0, 8, 7, 8, 5, 6, 3, 7, 2, 7]  posicions [ 12 , 14 ] : amb el mateix valor: 8\n",
      "[10, 6, 3, 7, 1, 2, 4, 2, 4, 6, 0, 8, 7, 8, 5, 6, 3, 7, 2, 7]  posicions [ 13 , 18 ] : amb el mateix valor: 7\n",
      "[10, 6, 3, 7, 1, 2, 4, 2, 4, 6, 0, 8, 7, 8, 5, 6, 3, 7, 2, 7]  posicions [ 13 , 20 ] : amb el mateix valor: 7\n",
      "[10, 6, 3, 7, 1, 2, 4, 2, 4, 6, 0, 8, 7, 8, 5, 6, 3, 7, 2, 7]  posicions [ 18 , 20 ] : amb el mateix valor: 7\n"
     ]
    }
   ],
   "source": [
    "comparaLlista(llista)"
   ]
  },
  {
   "cell_type": "code",
   "execution_count": null,
   "metadata": {},
   "outputs": [],
   "source": []
  }
 ],
 "metadata": {
  "kernelspec": {
   "display_name": "Python 3",
   "language": "python",
   "name": "python3"
  },
  "language_info": {
   "codemirror_mode": {
    "name": "ipython",
    "version": 3
   },
   "file_extension": ".py",
   "mimetype": "text/x-python",
   "name": "python",
   "nbconvert_exporter": "python",
   "pygments_lexer": "ipython3",
   "version": "3.7.6"
  }
 },
 "nbformat": 4,
 "nbformat_minor": 4
}
