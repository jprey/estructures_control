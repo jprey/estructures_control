{
 "cells": [
  {
   "cell_type": "markdown",
   "metadata": {},
   "source": [
    "# Especialització de DataScience de la IT ACADEMY\n",
    "### *Sprint2 - Tasca 3 - Exercici 1*\n",
    "#### **L'exercici consisteix a crear un programa que et classifiqui una variable numèrica en funció de l’escala Suspès/Aprovat/Notable/Excel·lent.**\n",
    "\n",
    "#### Alumne: Jorge Prieto Data: 14/02/2022"
   ]
  },
  {
   "cell_type": "code",
   "execution_count": 9,
   "metadata": {},
   "outputs": [],
   "source": [
    "#Funció per calificar la nota\n",
    "def CalificaNota(nota):\n",
    "\n",
    "    if nota<5:\n",
    "        print(\"Suspès\")\n",
    "    elif nota>=5 and nota <7:\n",
    "        print(\"Aprovat\")\n",
    "    elif nota>=7 and nota <9:\n",
    "        print(\"Notable\")\n",
    "    elif nota>=9:\n",
    "        print(\"Excel·lent\")"
   ]
  },
  {
   "cell_type": "code",
   "execution_count": 10,
   "metadata": {},
   "outputs": [],
   "source": [
    "import numpy as np\n",
    "import random"
   ]
  },
  {
   "cell_type": "code",
   "execution_count": 12,
   "metadata": {},
   "outputs": [
    {
     "data": {
      "text/plain": [
       "7.1"
      ]
     },
     "execution_count": 12,
     "metadata": {},
     "output_type": "execute_result"
    }
   ],
   "source": [
    "nota = round((10*random.random()),1)\n",
    "nota"
   ]
  },
  {
   "cell_type": "code",
   "execution_count": 13,
   "metadata": {},
   "outputs": [
    {
     "name": "stdout",
     "output_type": "stream",
     "text": [
      "Notable\n"
     ]
    }
   ],
   "source": [
    "CalificaNota(nota)"
   ]
  },
  {
   "cell_type": "markdown",
   "metadata": {},
   "source": [
    "### *Sprint2 - Tasca 3 - Exercici 2*\n",
    "#### **Utilitzant el següent tutorial Programiz: Python Input, Output and Import crea un programa que et pregunti dos números. T’ha de mostrar un missatge dient si el primer és més gran, el segon és més gran o són iguals.**"
   ]
  },
  {
   "cell_type": "code",
   "execution_count": 1,
   "metadata": {},
   "outputs": [],
   "source": [
    "import math"
   ]
  },
  {
   "cell_type": "code",
   "execution_count": 2,
   "metadata": {},
   "outputs": [
    {
     "name": "stdout",
     "output_type": "stream",
     "text": [
      "Entra el primer valor numeric:3.25\n",
      "Entra el segon valor numeric:4.19\n"
     ]
    }
   ],
   "source": [
    "var1 = float(input(\"Entra el primer valor numeric:\"))\n",
    "var2 = float(input(\"Entra el segon valor numeric:\"))"
   ]
  },
  {
   "cell_type": "code",
   "execution_count": 3,
   "metadata": {},
   "outputs": [],
   "source": [
    "if var1>var2:\n",
    "    out = (\"var1 es major que var2\")\n",
    "elif var1==var2:\n",
    "    out = (\"var1 es igual que var2\")\n",
    "else: \n",
    "    out =(\"var1 es menor que var2\")"
   ]
  },
  {
   "cell_type": "code",
   "execution_count": 4,
   "metadata": {},
   "outputs": [
    {
     "name": "stdout",
     "output_type": "stream",
     "text": [
      "var1 es menor que var2\n"
     ]
    }
   ],
   "source": [
    "print(out)"
   ]
  },
  {
   "cell_type": "markdown",
   "metadata": {},
   "source": [
    "Comparació utilitzant llibreria math importada"
   ]
  },
  {
   "cell_type": "code",
   "execution_count": 5,
   "metadata": {},
   "outputs": [],
   "source": [
    "if(math.isclose(var1,var2)):\n",
    "    outMath = \"var1 es igual a var2\"\n",
    "elif (math.remainder(var1,var2))>0:\n",
    "    outMath = \"var1 es major que var2\"\n",
    "else: outMath = \"var1 es menor que var2\""
   ]
  },
  {
   "cell_type": "code",
   "execution_count": 6,
   "metadata": {},
   "outputs": [
    {
     "name": "stdout",
     "output_type": "stream",
     "text": [
      "var1 es menor que var2\n"
     ]
    }
   ],
   "source": [
    "print(outMath)"
   ]
  },
  {
   "cell_type": "markdown",
   "metadata": {},
   "source": [
    "### *Sprint2 - Tasca 3 - Exercici 3*\n",
    "#### **Crea un programa que et pregunti el teu nom, i et demani un número. Si el número és 0, hauria de mostrar un missatge d’error. En cas contrari, hauria de mostrar el nom repetit tants cops com indiqui el número. Per exemple, “Joan Joan Joan”.**"
   ]
  },
  {
   "cell_type": "code",
   "execution_count": 7,
   "metadata": {},
   "outputs": [
    {
     "name": "stdout",
     "output_type": "stream",
     "text": [
      "Escriu el teu nom:Jorge\n",
      "Escriu el número de copies del nom:3\n"
     ]
    }
   ],
   "source": [
    "nom = input(\"Escriu el teu nom:\")\n",
    "num = int(input(\"Escriu el número de copies del nom:\"))"
   ]
  },
  {
   "cell_type": "code",
   "execution_count": 8,
   "metadata": {},
   "outputs": [
    {
     "name": "stdout",
     "output_type": "stream",
     "text": [
      "Jorge Jorge Jorge \n"
     ]
    }
   ],
   "source": [
    "if num>0:\n",
    "    string = \"\"\n",
    "    for i in range (0,num):\n",
    "        string += nom +\" \"\n",
    "    print(string)\n",
    "else:\n",
    "    print(\"Error\")"
   ]
  },
  {
   "cell_type": "markdown",
   "metadata": {},
   "source": [
    "### *Sprint2 - Tasca 3 - Exercici 4*\n",
    "#### **Crea un programa que donada una llista qualsevol, et digui si es simètrica o no. Si ho és, que et digui quants elements té.**"
   ]
  },
  {
   "cell_type": "code",
   "execution_count": 9,
   "metadata": {},
   "outputs": [
    {
     "data": {
      "text/plain": [
       "[1, 2, 3, 2, 1]"
      ]
     },
     "execution_count": 9,
     "metadata": {},
     "output_type": "execute_result"
    }
   ],
   "source": [
    "llista = [1,2,3,2,1]\n",
    "llista"
   ]
  },
  {
   "cell_type": "code",
   "execution_count": 10,
   "metadata": {},
   "outputs": [
    {
     "data": {
      "text/plain": [
       "[1, 2, 3, 2, 1]"
      ]
     },
     "execution_count": 10,
     "metadata": {},
     "output_type": "execute_result"
    }
   ],
   "source": [
    "llistaReves = llista[::-1]\n",
    "llistaReves"
   ]
  },
  {
   "cell_type": "code",
   "execution_count": 11,
   "metadata": {},
   "outputs": [
    {
     "name": "stdout",
     "output_type": "stream",
     "text": [
      "la llista es simétrica i té 5 elements\n"
     ]
    }
   ],
   "source": [
    "if (llista == llistaReves):\n",
    "    print(\"la llista es simétrica i té\",len(llista),\"elements\")\n",
    "else: print(\"la llista no es simétrica\")"
   ]
  },
  {
   "cell_type": "code",
   "execution_count": 12,
   "metadata": {},
   "outputs": [
    {
     "data": {
      "text/plain": [
       "['a', 1, 5, 12, 'z']"
      ]
     },
     "execution_count": 12,
     "metadata": {},
     "output_type": "execute_result"
    }
   ],
   "source": [
    "llista2 = ['a',1,5,12,'z']\n",
    "llista2"
   ]
  },
  {
   "cell_type": "code",
   "execution_count": 13,
   "metadata": {},
   "outputs": [
    {
     "data": {
      "text/plain": [
       "['z', 12, 5, 1, 'a']"
      ]
     },
     "execution_count": 13,
     "metadata": {},
     "output_type": "execute_result"
    }
   ],
   "source": [
    "llistaReves2 = llista2[::-1]\n",
    "llistaReves2"
   ]
  },
  {
   "cell_type": "code",
   "execution_count": 14,
   "metadata": {},
   "outputs": [
    {
     "name": "stdout",
     "output_type": "stream",
     "text": [
      "la llista 2 no es simétrica\n"
     ]
    }
   ],
   "source": [
    "if (llista2 == llistaReves2):\n",
    "    print(\"la llista 2 es simétrica i té\",len(llista),\"elements\")\n",
    "else: print(\"la llista 2 no es simétrica\")"
   ]
  },
  {
   "cell_type": "markdown",
   "metadata": {},
   "source": [
    "### *Sprint2 - Tasca 3 - Exercici 5*\n",
    "#### **Crea un programa que donada una llista, et digui quants números coincideixen amb la seva posició. Per exemple [3,4,2,0,2,3,6] el 2 i el 6 coincideixen.**"
   ]
  },
  {
   "cell_type": "code",
   "execution_count": 21,
   "metadata": {},
   "outputs": [],
   "source": [
    "import random\n",
    "\n",
    "#Funció per la creació de una llista aleatorio de rangInf a rangSup en n posicions\n",
    "def creaLlistaValorAleatori(argInf,argSup,argPos):\n",
    "    llista = [random.randint(argInf,argSup) for _ in range(argPos)]\n",
    "    return llista"
   ]
  },
  {
   "cell_type": "code",
   "execution_count": 22,
   "metadata": {},
   "outputs": [],
   "source": [
    "#Funció per comparar els valors de una llista\n",
    "def comparaValorsLlista(llista):\n",
    "\n",
    "    count1 = 0\n",
    "    count2 = 0\n",
    "\n",
    "    llistaCopia = llista.copy() #copia de llista per la comparació de valor\n",
    "    \n",
    "    for i in llista:\n",
    "        count2 = count1\n",
    "        count1 +=1\n",
    "\n",
    "        del llistaCopia[0] #Elimina una posició en cada bucle per la comparació\n",
    "\n",
    "        for j in llistaCopia:\n",
    "            count2 += 1\n",
    "            if (i==j):\n",
    "                print(llista,\" posicions [\",count1,\",\",count2+1,\"] : amb el mateix valor:\",i)    "
   ]
  },
  {
   "cell_type": "code",
   "execution_count": 23,
   "metadata": {},
   "outputs": [
    {
     "data": {
      "text/plain": [
       "[2, 2, 5, 6, 2, 0, 5, 1, 2, 10, 2, 4, 1, 6, 10, 7, 1, 5, 1, 10]"
      ]
     },
     "execution_count": 23,
     "metadata": {},
     "output_type": "execute_result"
    }
   ],
   "source": [
    "Llista = creaLlistaValorAleatori(0,10,20)\n",
    "Llista"
   ]
  },
  {
   "cell_type": "code",
   "execution_count": 26,
   "metadata": {},
   "outputs": [
    {
     "name": "stdout",
     "output_type": "stream",
     "text": [
      "[2, 2, 5, 6, 2, 0, 5, 1, 2, 10, 2, 4, 1, 6, 10, 7, 1, 5, 1, 10]  posicions [ 1 , 2 ] : amb el mateix valor: 2\n",
      "[2, 2, 5, 6, 2, 0, 5, 1, 2, 10, 2, 4, 1, 6, 10, 7, 1, 5, 1, 10]  posicions [ 1 , 5 ] : amb el mateix valor: 2\n",
      "[2, 2, 5, 6, 2, 0, 5, 1, 2, 10, 2, 4, 1, 6, 10, 7, 1, 5, 1, 10]  posicions [ 1 , 9 ] : amb el mateix valor: 2\n",
      "[2, 2, 5, 6, 2, 0, 5, 1, 2, 10, 2, 4, 1, 6, 10, 7, 1, 5, 1, 10]  posicions [ 1 , 11 ] : amb el mateix valor: 2\n",
      "[2, 2, 5, 6, 2, 0, 5, 1, 2, 10, 2, 4, 1, 6, 10, 7, 1, 5, 1, 10]  posicions [ 2 , 5 ] : amb el mateix valor: 2\n",
      "[2, 2, 5, 6, 2, 0, 5, 1, 2, 10, 2, 4, 1, 6, 10, 7, 1, 5, 1, 10]  posicions [ 2 , 9 ] : amb el mateix valor: 2\n",
      "[2, 2, 5, 6, 2, 0, 5, 1, 2, 10, 2, 4, 1, 6, 10, 7, 1, 5, 1, 10]  posicions [ 2 , 11 ] : amb el mateix valor: 2\n",
      "[2, 2, 5, 6, 2, 0, 5, 1, 2, 10, 2, 4, 1, 6, 10, 7, 1, 5, 1, 10]  posicions [ 3 , 7 ] : amb el mateix valor: 5\n",
      "[2, 2, 5, 6, 2, 0, 5, 1, 2, 10, 2, 4, 1, 6, 10, 7, 1, 5, 1, 10]  posicions [ 3 , 18 ] : amb el mateix valor: 5\n",
      "[2, 2, 5, 6, 2, 0, 5, 1, 2, 10, 2, 4, 1, 6, 10, 7, 1, 5, 1, 10]  posicions [ 4 , 14 ] : amb el mateix valor: 6\n",
      "[2, 2, 5, 6, 2, 0, 5, 1, 2, 10, 2, 4, 1, 6, 10, 7, 1, 5, 1, 10]  posicions [ 5 , 9 ] : amb el mateix valor: 2\n",
      "[2, 2, 5, 6, 2, 0, 5, 1, 2, 10, 2, 4, 1, 6, 10, 7, 1, 5, 1, 10]  posicions [ 5 , 11 ] : amb el mateix valor: 2\n",
      "[2, 2, 5, 6, 2, 0, 5, 1, 2, 10, 2, 4, 1, 6, 10, 7, 1, 5, 1, 10]  posicions [ 7 , 18 ] : amb el mateix valor: 5\n",
      "[2, 2, 5, 6, 2, 0, 5, 1, 2, 10, 2, 4, 1, 6, 10, 7, 1, 5, 1, 10]  posicions [ 8 , 13 ] : amb el mateix valor: 1\n",
      "[2, 2, 5, 6, 2, 0, 5, 1, 2, 10, 2, 4, 1, 6, 10, 7, 1, 5, 1, 10]  posicions [ 8 , 17 ] : amb el mateix valor: 1\n",
      "[2, 2, 5, 6, 2, 0, 5, 1, 2, 10, 2, 4, 1, 6, 10, 7, 1, 5, 1, 10]  posicions [ 8 , 19 ] : amb el mateix valor: 1\n",
      "[2, 2, 5, 6, 2, 0, 5, 1, 2, 10, 2, 4, 1, 6, 10, 7, 1, 5, 1, 10]  posicions [ 9 , 11 ] : amb el mateix valor: 2\n",
      "[2, 2, 5, 6, 2, 0, 5, 1, 2, 10, 2, 4, 1, 6, 10, 7, 1, 5, 1, 10]  posicions [ 10 , 15 ] : amb el mateix valor: 10\n",
      "[2, 2, 5, 6, 2, 0, 5, 1, 2, 10, 2, 4, 1, 6, 10, 7, 1, 5, 1, 10]  posicions [ 10 , 20 ] : amb el mateix valor: 10\n",
      "[2, 2, 5, 6, 2, 0, 5, 1, 2, 10, 2, 4, 1, 6, 10, 7, 1, 5, 1, 10]  posicions [ 13 , 17 ] : amb el mateix valor: 1\n",
      "[2, 2, 5, 6, 2, 0, 5, 1, 2, 10, 2, 4, 1, 6, 10, 7, 1, 5, 1, 10]  posicions [ 13 , 19 ] : amb el mateix valor: 1\n",
      "[2, 2, 5, 6, 2, 0, 5, 1, 2, 10, 2, 4, 1, 6, 10, 7, 1, 5, 1, 10]  posicions [ 15 , 20 ] : amb el mateix valor: 10\n",
      "[2, 2, 5, 6, 2, 0, 5, 1, 2, 10, 2, 4, 1, 6, 10, 7, 1, 5, 1, 10]  posicions [ 17 , 19 ] : amb el mateix valor: 1\n"
     ]
    }
   ],
   "source": [
    "comparaValorsLlista(Llista)"
   ]
  },
  {
   "cell_type": "code",
   "execution_count": null,
   "metadata": {},
   "outputs": [],
   "source": []
  }
 ],
 "metadata": {
  "kernelspec": {
   "display_name": "Python 3",
   "language": "python",
   "name": "python3"
  },
  "language_info": {
   "codemirror_mode": {
    "name": "ipython",
    "version": 3
   },
   "file_extension": ".py",
   "mimetype": "text/x-python",
   "name": "python",
   "nbconvert_exporter": "python",
   "pygments_lexer": "ipython3",
   "version": "3.7.6"
  }
 },
 "nbformat": 4,
 "nbformat_minor": 4
}
